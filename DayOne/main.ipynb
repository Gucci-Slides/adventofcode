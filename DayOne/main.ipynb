{
 "cells": [
  {
   "cell_type": "code",
   "execution_count": 1,
   "metadata": {},
   "outputs": [],
   "source": [
    "#with open('data.txt', 'r') as f:\n",
    "#    data = f.read().strip().split('\\n')\n",
    "\n",
    "with open('sampledata.txt', 'r') as f:\n",
    "    sampledata = f.read().strip().split('\\n')"
   ]
  },
  {
   "cell_type": "code",
   "execution_count": 13,
   "metadata": {},
   "outputs": [],
   "source": [
    "elves = dict()\n",
    "\n",
    "\"\"\"\n",
    "elves = {\n",
    "    \"1\": 6000,\n",
    "    \"2\": 4000,\n",
    "    \"3\": 11000,\n",
    "    \"4\": 24000,\n",
    "    \"5\": 10000\n",
    "}\n",
    "\"\"\""
   ]
  },
  {
   "cell_type": "code",
   "execution_count": 14,
   "metadata": {},
   "outputs": [],
   "source": [
    "def add(self, key, value):\n",
    "    self[key] = value"
   ]
  },
  {
   "cell_type": "code",
   "execution_count": null,
   "metadata": {},
   "outputs": [],
   "source": [
    "len(sampledata)"
   ]
  },
  {
   "cell_type": "code",
   "execution_count": 97,
   "metadata": {},
   "outputs": [],
   "source": [
    "# key value\n",
    "length = len(sampledata)\n",
    "\n",
    "for i in range(0, length):\n",
    "    counter = range(0, length)[i]\n"
   ]
  },
  {
   "cell_type": "code",
   "execution_count": 146,
   "metadata": {},
   "outputs": [
    {
     "name": "stdout",
     "output_type": "stream",
     "text": [
      "1000\n",
      "2000\n",
      "3000\n"
     ]
    }
   ],
   "source": [
    "# sum the calories\n",
    "rollsum = 0\n",
    "for i in sampledata:\n",
    "\n",
    "    if i == '':\n",
    "        break\n",
    "    else:\n",
    "        calorie = int(i)\n",
    "        calorie += rollsum\n",
    "        "
   ]
  },
  {
   "cell_type": "code",
   "execution_count": 3,
   "metadata": {},
   "outputs": [
    {
     "name": "stdout",
     "output_type": "stream",
     "text": [
      "24000\n"
     ]
    }
   ],
   "source": [
    "max = 0\n",
    "count = 0\n",
    "for item in sampledata:\n",
    "    if item == '':\n",
    "        count = 0\n",
    "    else:\n",
    "        num = int(item)\n",
    "        count += num\n",
    "    \n",
    "    if count > max:\n",
    "        max = count\n",
    "\n",
    "print(max)"
   ]
  }
 ],
 "metadata": {
  "kernelspec": {
   "display_name": "Python 3",
   "language": "python",
   "name": "python3"
  },
  "language_info": {
   "codemirror_mode": {
    "name": "ipython",
    "version": 3
   },
   "file_extension": ".py",
   "mimetype": "text/x-python",
   "name": "python",
   "nbconvert_exporter": "python",
   "pygments_lexer": "ipython3",
   "version": "3.8.10"
  },
  "orig_nbformat": 4,
  "vscode": {
   "interpreter": {
    "hash": "916dbcbb3f70747c44a77c7bcd40155683ae19c65e1c03b4aa3499c5328201f1"
   }
  }
 },
 "nbformat": 4,
 "nbformat_minor": 2
}
